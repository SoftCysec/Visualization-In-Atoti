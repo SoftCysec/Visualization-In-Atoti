{
 "cells": [
  {
   "cell_type": "code",
   "execution_count": 4,
   "id": "03e3d3cb",
   "metadata": {
    "scrolled": true
   },
   "outputs": [
    {
     "name": "stdout",
     "output_type": "stream",
     "text": [
      "Defaulting to user installation because normal site-packages is not writeable\n",
      "Requirement already satisfied: atoti[jupyterlab] in /home/softcysec/.local/lib/python3.10/site-packages (0.7.4)\n",
      "Requirement already satisfied: atoti-core==0.7.4 in /home/softcysec/.local/lib/python3.10/site-packages (from atoti[jupyterlab]) (0.7.4)\n",
      "Requirement already satisfied: atoti-query==0.7.4 in /home/softcysec/.local/lib/python3.10/site-packages (from atoti[jupyterlab]) (0.7.4)\n",
      "Requirement already satisfied: jdk4py~=17.0 in /home/softcysec/.local/lib/python3.10/site-packages (from atoti[jupyterlab]) (17.0.3.0)\n",
      "Requirement already satisfied: numpy~=1.22 in /home/softcysec/.local/lib/python3.10/site-packages (from atoti[jupyterlab]) (1.23.5)\n",
      "Requirement already satisfied: pandas in /home/softcysec/.local/lib/python3.10/site-packages (from atoti[jupyterlab]) (1.5.2)\n",
      "Requirement already satisfied: py4j~=0.10.9 in /home/softcysec/.local/lib/python3.10/site-packages (from atoti[jupyterlab]) (0.10.9.7)\n",
      "Requirement already satisfied: pyarrow in /home/softcysec/.local/lib/python3.10/site-packages (from atoti[jupyterlab]) (10.0.0)\n",
      "Requirement already satisfied: python-dateutil in /home/softcysec/.local/lib/python3.10/site-packages (from atoti[jupyterlab]) (2.8.2)\n",
      "Requirement already satisfied: typeguard in /home/softcysec/.local/lib/python3.10/site-packages (from atoti[jupyterlab]) (2.13.3)\n",
      "Requirement already satisfied: typing-extensions in /home/softcysec/.local/lib/python3.10/site-packages (from atoti[jupyterlab]) (4.4.0)\n",
      "Collecting atoti-jupyterlab==0.7.4 (from atoti[jupyterlab])\n",
      "  Using cached atoti_jupyterlab-0.7.4-0_cb607ee-py3-none-any.whl (3.2 MB)\n",
      "Requirement already satisfied: importlib-metadata~=4.10 in /home/softcysec/.local/lib/python3.10/site-packages (from atoti-core==0.7.4->atoti[jupyterlab]) (4.13.0)\n",
      "Requirement already satisfied: jupyterlab~=3.0 in /home/softcysec/.local/lib/python3.10/site-packages (from atoti-jupyterlab==0.7.4->atoti[jupyterlab]) (3.6.3)\n",
      "Requirement already satisfied: pytz>=2020.1 in /home/softcysec/.local/lib/python3.10/site-packages (from pandas->atoti[jupyterlab]) (2021.3)\n",
      "Requirement already satisfied: six>=1.5 in /home/softcysec/.local/lib/python3.10/site-packages (from python-dateutil->atoti[jupyterlab]) (1.16.0)\n",
      "Requirement already satisfied: zipp>=0.5 in /home/softcysec/.local/lib/python3.10/site-packages (from importlib-metadata~=4.10->atoti-core==0.7.4->atoti[jupyterlab]) (3.9.0)\n",
      "Requirement already satisfied: ipython in /home/softcysec/.local/lib/python3.10/site-packages (from jupyterlab~=3.0->atoti-jupyterlab==0.7.4->atoti[jupyterlab]) (8.5.0)\n",
      "Requirement already satisfied: packaging in /usr/lib/python3/dist-packages (from jupyterlab~=3.0->atoti-jupyterlab==0.7.4->atoti[jupyterlab]) (21.3)\n",
      "Requirement already satisfied: tornado>=6.1.0 in /home/softcysec/.local/lib/python3.10/site-packages (from jupyterlab~=3.0->atoti-jupyterlab==0.7.4->atoti[jupyterlab]) (6.2)\n",
      "Requirement already satisfied: jupyter-core in /home/softcysec/.local/lib/python3.10/site-packages (from jupyterlab~=3.0->atoti-jupyterlab==0.7.4->atoti[jupyterlab]) (5.3.0)\n",
      "Requirement already satisfied: jupyterlab-server~=2.19 in /home/softcysec/.local/lib/python3.10/site-packages (from jupyterlab~=3.0->atoti-jupyterlab==0.7.4->atoti[jupyterlab]) (2.22.1)\n",
      "Requirement already satisfied: jupyter-server<3,>=1.16.0 in /home/softcysec/.local/lib/python3.10/site-packages (from jupyterlab~=3.0->atoti-jupyterlab==0.7.4->atoti[jupyterlab]) (2.5.0)\n",
      "Requirement already satisfied: jupyter-ydoc~=0.2.3 in /home/softcysec/.local/lib/python3.10/site-packages (from jupyterlab~=3.0->atoti-jupyterlab==0.7.4->atoti[jupyterlab]) (0.2.4)\n",
      "Requirement already satisfied: jupyter-server-ydoc~=0.8.0 in /home/softcysec/.local/lib/python3.10/site-packages (from jupyterlab~=3.0->atoti-jupyterlab==0.7.4->atoti[jupyterlab]) (0.8.0)\n",
      "Requirement already satisfied: nbclassic in /home/softcysec/.local/lib/python3.10/site-packages (from jupyterlab~=3.0->atoti-jupyterlab==0.7.4->atoti[jupyterlab]) (0.5.5)\n",
      "Requirement already satisfied: notebook<7 in /usr/lib/python3/dist-packages (from jupyterlab~=3.0->atoti-jupyterlab==0.7.4->atoti[jupyterlab]) (6.4.12)\n",
      "Requirement already satisfied: jinja2>=2.1 in /home/softcysec/.local/lib/python3.10/site-packages (from jupyterlab~=3.0->atoti-jupyterlab==0.7.4->atoti[jupyterlab]) (3.0.3)\n",
      "Requirement already satisfied: tomli in /usr/lib/python3/dist-packages (from jupyterlab~=3.0->atoti-jupyterlab==0.7.4->atoti[jupyterlab]) (2.0.1)\n",
      "Requirement already satisfied: MarkupSafe>=2.0 in /home/softcysec/.local/lib/python3.10/site-packages (from jinja2>=2.1->jupyterlab~=3.0->atoti-jupyterlab==0.7.4->atoti[jupyterlab]) (2.0.1)\n",
      "Requirement already satisfied: anyio>=3.1.0 in /usr/lib/python3/dist-packages (from jupyter-server<3,>=1.16.0->jupyterlab~=3.0->atoti-jupyterlab==0.7.4->atoti[jupyterlab]) (3.6.1)\n",
      "Requirement already satisfied: argon2-cffi in /usr/lib/python3/dist-packages (from jupyter-server<3,>=1.16.0->jupyterlab~=3.0->atoti-jupyterlab==0.7.4->atoti[jupyterlab]) (21.1.0)\n",
      "Requirement already satisfied: jupyter-client>=7.4.4 in /home/softcysec/.local/lib/python3.10/site-packages (from jupyter-server<3,>=1.16.0->jupyterlab~=3.0->atoti-jupyterlab==0.7.4->atoti[jupyterlab]) (7.4.4)\n",
      "Requirement already satisfied: jupyter-events>=0.4.0 in /home/softcysec/.local/lib/python3.10/site-packages (from jupyter-server<3,>=1.16.0->jupyterlab~=3.0->atoti-jupyterlab==0.7.4->atoti[jupyterlab]) (0.6.3)\n",
      "Requirement already satisfied: jupyter-server-terminals in /home/softcysec/.local/lib/python3.10/site-packages (from jupyter-server<3,>=1.16.0->jupyterlab~=3.0->atoti-jupyterlab==0.7.4->atoti[jupyterlab]) (0.4.4)\n",
      "Requirement already satisfied: nbconvert>=6.4.4 in /usr/lib/python3/dist-packages (from jupyter-server<3,>=1.16.0->jupyterlab~=3.0->atoti-jupyterlab==0.7.4->atoti[jupyterlab]) (6.4.4)\n",
      "Requirement already satisfied: nbformat>=5.3.0 in /usr/lib/python3/dist-packages (from jupyter-server<3,>=1.16.0->jupyterlab~=3.0->atoti-jupyterlab==0.7.4->atoti[jupyterlab]) (5.5.0)\n",
      "Requirement already satisfied: prometheus-client in /usr/lib/python3/dist-packages (from jupyter-server<3,>=1.16.0->jupyterlab~=3.0->atoti-jupyterlab==0.7.4->atoti[jupyterlab]) (0.9.0)\n",
      "Requirement already satisfied: pyzmq>=24 in /home/softcysec/.local/lib/python3.10/site-packages (from jupyter-server<3,>=1.16.0->jupyterlab~=3.0->atoti-jupyterlab==0.7.4->atoti[jupyterlab]) (24.0.1)\n",
      "Requirement already satisfied: send2trash in /usr/lib/python3/dist-packages (from jupyter-server<3,>=1.16.0->jupyterlab~=3.0->atoti-jupyterlab==0.7.4->atoti[jupyterlab]) (1.8.1b0)\n",
      "Requirement already satisfied: terminado>=0.8.3 in /usr/lib/python3/dist-packages (from jupyter-server<3,>=1.16.0->jupyterlab~=3.0->atoti-jupyterlab==0.7.4->atoti[jupyterlab]) (0.17.0)\n",
      "Requirement already satisfied: traitlets>=5.6.0 in /home/softcysec/.local/lib/python3.10/site-packages (from jupyter-server<3,>=1.16.0->jupyterlab~=3.0->atoti-jupyterlab==0.7.4->atoti[jupyterlab]) (5.9.0)\n",
      "Requirement already satisfied: websocket-client in /home/softcysec/.local/lib/python3.10/site-packages (from jupyter-server<3,>=1.16.0->jupyterlab~=3.0->atoti-jupyterlab==0.7.4->atoti[jupyterlab]) (1.4.1)\n",
      "Requirement already satisfied: platformdirs>=2.5 in /usr/lib/python3/dist-packages (from jupyter-core->jupyterlab~=3.0->atoti-jupyterlab==0.7.4->atoti[jupyterlab]) (2.5.2)\n",
      "Requirement already satisfied: jupyter-server-fileid<1,>=0.6.0 in /home/softcysec/.local/lib/python3.10/site-packages (from jupyter-server-ydoc~=0.8.0->jupyterlab~=3.0->atoti-jupyterlab==0.7.4->atoti[jupyterlab]) (0.9.0)\n",
      "Requirement already satisfied: ypy-websocket<0.9.0,>=0.8.2 in /home/softcysec/.local/lib/python3.10/site-packages (from jupyter-server-ydoc~=0.8.0->jupyterlab~=3.0->atoti-jupyterlab==0.7.4->atoti[jupyterlab]) (0.8.2)\n",
      "Requirement already satisfied: y-py<0.6.0,>=0.5.3 in /home/softcysec/.local/lib/python3.10/site-packages (from jupyter-ydoc~=0.2.3->jupyterlab~=3.0->atoti-jupyterlab==0.7.4->atoti[jupyterlab]) (0.5.9)\n",
      "Requirement already satisfied: babel>=2.10 in /home/softcysec/.local/lib/python3.10/site-packages (from jupyterlab-server~=2.19->jupyterlab~=3.0->atoti-jupyterlab==0.7.4->atoti[jupyterlab]) (2.10.3)\n",
      "Requirement already satisfied: json5>=0.9.0 in /home/softcysec/.local/lib/python3.10/site-packages (from jupyterlab-server~=2.19->jupyterlab~=3.0->atoti-jupyterlab==0.7.4->atoti[jupyterlab]) (0.9.11)\n",
      "Requirement already satisfied: jsonschema>=4.17.3 in /home/softcysec/.local/lib/python3.10/site-packages (from jupyterlab-server~=2.19->jupyterlab~=3.0->atoti-jupyterlab==0.7.4->atoti[jupyterlab]) (4.17.3)\n",
      "Requirement already satisfied: requests>=2.28 in /home/softcysec/.local/lib/python3.10/site-packages (from jupyterlab-server~=2.19->jupyterlab~=3.0->atoti-jupyterlab==0.7.4->atoti[jupyterlab]) (2.28.2)\n"
     ]
    },
    {
     "name": "stdout",
     "output_type": "stream",
     "text": [
      "Requirement already satisfied: backcall in /usr/lib/python3/dist-packages (from ipython->jupyterlab~=3.0->atoti-jupyterlab==0.7.4->atoti[jupyterlab]) (0.2.0)\n",
      "Requirement already satisfied: decorator in /home/softcysec/.local/lib/python3.10/site-packages (from ipython->jupyterlab~=3.0->atoti-jupyterlab==0.7.4->atoti[jupyterlab]) (5.1.1)\n",
      "Requirement already satisfied: jedi>=0.16 in /home/softcysec/.local/lib/python3.10/site-packages (from ipython->jupyterlab~=3.0->atoti-jupyterlab==0.7.4->atoti[jupyterlab]) (0.18.1)\n",
      "Requirement already satisfied: matplotlib-inline in /home/softcysec/.local/lib/python3.10/site-packages (from ipython->jupyterlab~=3.0->atoti-jupyterlab==0.7.4->atoti[jupyterlab]) (0.1.6)\n",
      "Requirement already satisfied: pickleshare in /usr/lib/python3/dist-packages (from ipython->jupyterlab~=3.0->atoti-jupyterlab==0.7.4->atoti[jupyterlab]) (0.7.5)\n",
      "Requirement already satisfied: prompt-toolkit<3.1.0,>3.0.1 in /home/softcysec/.local/lib/python3.10/site-packages (from ipython->jupyterlab~=3.0->atoti-jupyterlab==0.7.4->atoti[jupyterlab]) (3.0.29)\n",
      "Requirement already satisfied: pygments>=2.4.0 in /home/softcysec/.local/lib/python3.10/site-packages (from ipython->jupyterlab~=3.0->atoti-jupyterlab==0.7.4->atoti[jupyterlab]) (2.13.0)\n",
      "Requirement already satisfied: stack-data in /home/softcysec/.local/lib/python3.10/site-packages (from ipython->jupyterlab~=3.0->atoti-jupyterlab==0.7.4->atoti[jupyterlab]) (0.5.1)\n",
      "Requirement already satisfied: pexpect>4.3 in /usr/lib/python3/dist-packages (from ipython->jupyterlab~=3.0->atoti-jupyterlab==0.7.4->atoti[jupyterlab]) (4.8.0)\n",
      "Requirement already satisfied: ipython-genutils in /usr/lib/python3/dist-packages (from nbclassic->jupyterlab~=3.0->atoti-jupyterlab==0.7.4->atoti[jupyterlab]) (0.2.0)\n",
      "Requirement already satisfied: notebook-shim>=0.1.0 in /home/softcysec/.local/lib/python3.10/site-packages (from nbclassic->jupyterlab~=3.0->atoti-jupyterlab==0.7.4->atoti[jupyterlab]) (0.2.2)\n",
      "Requirement already satisfied: nest-asyncio>=1.5 in /home/softcysec/.local/lib/python3.10/site-packages (from nbclassic->jupyterlab~=3.0->atoti-jupyterlab==0.7.4->atoti[jupyterlab]) (1.5.6)\n",
      "Requirement already satisfied: ipykernel in /home/softcysec/.local/lib/python3.10/site-packages (from nbclassic->jupyterlab~=3.0->atoti-jupyterlab==0.7.4->atoti[jupyterlab]) (6.16.2)\n",
      "Requirement already satisfied: parso<0.9.0,>=0.8.0 in /home/softcysec/.local/lib/python3.10/site-packages (from jedi>=0.16->ipython->jupyterlab~=3.0->atoti-jupyterlab==0.7.4->atoti[jupyterlab]) (0.8.3)\n",
      "Requirement already satisfied: attrs>=17.4.0 in /home/softcysec/.local/lib/python3.10/site-packages (from jsonschema>=4.17.3->jupyterlab-server~=2.19->jupyterlab~=3.0->atoti-jupyterlab==0.7.4->atoti[jupyterlab]) (21.4.0)\n",
      "Requirement already satisfied: pyrsistent!=0.17.0,!=0.17.1,!=0.17.2,>=0.14.0 in /usr/lib/python3/dist-packages (from jsonschema>=4.17.3->jupyterlab-server~=2.19->jupyterlab~=3.0->atoti-jupyterlab==0.7.4->atoti[jupyterlab]) (0.18.1)\n",
      "Requirement already satisfied: entrypoints in /home/softcysec/.local/lib/python3.10/site-packages (from jupyter-client>=7.4.4->jupyter-server<3,>=1.16.0->jupyterlab~=3.0->atoti-jupyterlab==0.7.4->atoti[jupyterlab]) (0.4)\n",
      "Requirement already satisfied: python-json-logger>=2.0.4 in /home/softcysec/.local/lib/python3.10/site-packages (from jupyter-events>=0.4.0->jupyter-server<3,>=1.16.0->jupyterlab~=3.0->atoti-jupyterlab==0.7.4->atoti[jupyterlab]) (2.0.7)\n",
      "Requirement already satisfied: pyyaml>=5.3 in /home/softcysec/.local/lib/python3.10/site-packages (from jupyter-events>=0.4.0->jupyter-server<3,>=1.16.0->jupyterlab~=3.0->atoti-jupyterlab==0.7.4->atoti[jupyterlab]) (6.0)\n",
      "Requirement already satisfied: rfc3339-validator in /home/softcysec/.local/lib/python3.10/site-packages (from jupyter-events>=0.4.0->jupyter-server<3,>=1.16.0->jupyterlab~=3.0->atoti-jupyterlab==0.7.4->atoti[jupyterlab]) (0.1.4)\n",
      "Requirement already satisfied: rfc3986-validator>=0.1.1 in /home/softcysec/.local/lib/python3.10/site-packages (from jupyter-events>=0.4.0->jupyter-server<3,>=1.16.0->jupyterlab~=3.0->atoti-jupyterlab==0.7.4->atoti[jupyterlab]) (0.1.1)\n",
      "Requirement already satisfied: fastjsonschema in /usr/lib/python3/dist-packages (from nbformat>=5.3.0->jupyter-server<3,>=1.16.0->jupyterlab~=3.0->atoti-jupyterlab==0.7.4->atoti[jupyterlab]) (2.15.1)\n",
      "Requirement already satisfied: wcwidth in /usr/lib/python3/dist-packages (from prompt-toolkit<3.1.0,>3.0.1->ipython->jupyterlab~=3.0->atoti-jupyterlab==0.7.4->atoti[jupyterlab]) (0.2.5)\n",
      "Requirement already satisfied: charset-normalizer<4,>=2 in /home/softcysec/.local/lib/python3.10/site-packages (from requests>=2.28->jupyterlab-server~=2.19->jupyterlab~=3.0->atoti-jupyterlab==0.7.4->atoti[jupyterlab]) (2.0.9)\n",
      "Requirement already satisfied: idna<4,>=2.5 in /home/softcysec/.local/lib/python3.10/site-packages (from requests>=2.28->jupyterlab-server~=2.19->jupyterlab~=3.0->atoti-jupyterlab==0.7.4->atoti[jupyterlab]) (3.3)\n",
      "Requirement already satisfied: urllib3<1.27,>=1.21.1 in /home/softcysec/.local/lib/python3.10/site-packages (from requests>=2.28->jupyterlab-server~=2.19->jupyterlab~=3.0->atoti-jupyterlab==0.7.4->atoti[jupyterlab]) (1.26.7)\n",
      "Requirement already satisfied: certifi>=2017.4.17 in /home/softcysec/.local/lib/python3.10/site-packages (from requests>=2.28->jupyterlab-server~=2.19->jupyterlab~=3.0->atoti-jupyterlab==0.7.4->atoti[jupyterlab]) (2021.10.8)\n",
      "Requirement already satisfied: ptyprocess in /usr/lib/python3/dist-packages (from terminado>=0.8.3->jupyter-server<3,>=1.16.0->jupyterlab~=3.0->atoti-jupyterlab==0.7.4->atoti[jupyterlab]) (0.7.0)\n",
      "Requirement already satisfied: aiofiles<23,>=22.1.0 in /home/softcysec/.local/lib/python3.10/site-packages (from ypy-websocket<0.9.0,>=0.8.2->jupyter-server-ydoc~=0.8.0->jupyterlab~=3.0->atoti-jupyterlab==0.7.4->atoti[jupyterlab]) (22.1.0)\n",
      "Requirement already satisfied: aiosqlite<1,>=0.17.0 in /usr/lib/python3/dist-packages (from ypy-websocket<0.9.0,>=0.8.2->jupyter-server-ydoc~=0.8.0->jupyterlab~=3.0->atoti-jupyterlab==0.7.4->atoti[jupyterlab]) (0.17.0)\n",
      "Requirement already satisfied: debugpy>=1.0 in /home/softcysec/.local/lib/python3.10/site-packages (from ipykernel->nbclassic->jupyterlab~=3.0->atoti-jupyterlab==0.7.4->atoti[jupyterlab]) (1.6.3)\n",
      "Requirement already satisfied: psutil in /home/softcysec/.local/lib/python3.10/site-packages (from ipykernel->nbclassic->jupyterlab~=3.0->atoti-jupyterlab==0.7.4->atoti[jupyterlab]) (5.9.3)\n",
      "Requirement already satisfied: executing in /home/softcysec/.local/lib/python3.10/site-packages (from stack-data->ipython->jupyterlab~=3.0->atoti-jupyterlab==0.7.4->atoti[jupyterlab]) (1.1.1)\n",
      "Requirement already satisfied: asttokens in /home/softcysec/.local/lib/python3.10/site-packages (from stack-data->ipython->jupyterlab~=3.0->atoti-jupyterlab==0.7.4->atoti[jupyterlab]) (2.0.8)\n",
      "Requirement already satisfied: pure-eval in /home/softcysec/.local/lib/python3.10/site-packages (from stack-data->ipython->jupyterlab~=3.0->atoti-jupyterlab==0.7.4->atoti[jupyterlab]) (0.2.2)\n",
      "Requirement already satisfied: fqdn in /home/softcysec/.local/lib/python3.10/site-packages (from jsonschema>=4.17.3->jupyterlab-server~=2.19->jupyterlab~=3.0->atoti-jupyterlab==0.7.4->atoti[jupyterlab]) (1.5.1)\n",
      "Requirement already satisfied: isoduration in /home/softcysec/.local/lib/python3.10/site-packages (from jsonschema>=4.17.3->jupyterlab-server~=2.19->jupyterlab~=3.0->atoti-jupyterlab==0.7.4->atoti[jupyterlab]) (20.11.0)\n",
      "Requirement already satisfied: jsonpointer>1.13 in /home/softcysec/.local/lib/python3.10/site-packages (from jsonschema>=4.17.3->jupyterlab-server~=2.19->jupyterlab~=3.0->atoti-jupyterlab==0.7.4->atoti[jupyterlab]) (2.3)\n",
      "Requirement already satisfied: uri-template in /home/softcysec/.local/lib/python3.10/site-packages (from jsonschema>=4.17.3->jupyterlab-server~=2.19->jupyterlab~=3.0->atoti-jupyterlab==0.7.4->atoti[jupyterlab]) (1.2.0)\n",
      "Requirement already satisfied: webcolors>=1.11 in /home/softcysec/.local/lib/python3.10/site-packages (from jsonschema>=4.17.3->jupyterlab-server~=2.19->jupyterlab~=3.0->atoti-jupyterlab==0.7.4->atoti[jupyterlab]) (1.13)\n",
      "Requirement already satisfied: arrow>=0.15.0 in /home/softcysec/.local/lib/python3.10/site-packages (from isoduration->jsonschema>=4.17.3->jupyterlab-server~=2.19->jupyterlab~=3.0->atoti-jupyterlab==0.7.4->atoti[jupyterlab]) (1.2.3)\n"
     ]
    },
    {
     "name": "stdout",
     "output_type": "stream",
     "text": [
      "Installing collected packages: atoti-jupyterlab\n",
      "Successfully installed atoti-jupyterlab-0.7.4\n"
     ]
    }
   ],
   "source": [
    "!pip install atoti\n",
    "!pip install atoti[jupyterlab]"
   ]
  },
  {
   "cell_type": "code",
   "execution_count": 1,
   "id": "a29b7dce",
   "metadata": {
    "scrolled": true
   },
   "outputs": [
    {
     "name": "stdout",
     "output_type": "stream",
     "text": [
      "Welcome to atoti 0.7.4!\n",
      "\n",
      "By using this community edition, you agree with the license available at https://docs.atoti.io/latest/eula.html.\n",
      "Browse the official documentation at https://docs.atoti.io.\n",
      "Join the community at https://www.atoti.io/register.\n",
      "\n",
      "atoti collects telemetry data, which is used to help understand how to improve the product.\n",
      "If you don't wish to send usage data, you can apply for an evaluation license at https://www.atoti.io/contact and then install the `atoti-plus` plugin.\n",
      "\n",
      "You can hide this message by setting the `ATOTI_HIDE_EULA_MESSAGE` environment variable to True.\n"
     ]
    }
   ],
   "source": [
    "import atoti as tt\n",
    "import pandas as pd"
   ]
  },
  {
   "cell_type": "code",
   "execution_count": 2,
   "id": "3400f560",
   "metadata": {},
   "outputs": [],
   "source": [
    "# Create an Atoti session\n",
    "session = tt.Session()\n",
    "\n",
    "# Load the data into a Pandas DataFrame\n",
    "# df = pd.read_csv(\"uploads/Patient Data.csv\")\n",
    "\n",
    "data = session.read_csv(\"uploads/Patient Data.csv\")\n",
    "# Create an Atoti cube\n",
    "cube = session.create_cube(data)"
   ]
  },
  {
   "cell_type": "code",
   "execution_count": 3,
   "id": "a8e8b5f6",
   "metadata": {},
   "outputs": [
    {
     "data": {
      "application/vnd.atoti.widget.v0+json": {
       "name": null,
       "sessionId": "1681706774_CLBX8C",
       "sessionLocation": {
        "https": false,
        "port": 33921
       },
       "widgetCreationCode": "session.visualize()"
      },
      "text/plain": [
       "Open the notebook in JupyterLab with the atoti extension enabled to build this widget."
      ]
     },
     "metadata": {},
     "output_type": "display_data"
    }
   ],
   "source": [
    "session.visualize()"
   ]
  },
  {
   "cell_type": "code",
   "execution_count": 4,
   "id": "5afc7ab2",
   "metadata": {},
   "outputs": [
    {
     "data": {
      "application/vnd.atoti.link.v0+json": {
       "path": "",
       "sessionLocation": {
        "https": false,
        "port": 33921
       }
      },
      "text/plain": [
       "Open the notebook in JupyterLab with the atoti extension enabled to see this link."
      ]
     },
     "execution_count": 4,
     "metadata": {},
     "output_type": "execute_result"
    }
   ],
   "source": [
    "session.link()"
   ]
  },
  {
   "cell_type": "code",
   "execution_count": null,
   "id": "c184b63a",
   "metadata": {},
   "outputs": [],
   "source": []
  }
 ],
 "metadata": {
  "kernelspec": {
   "display_name": "Python 3 (ipykernel)",
   "language": "python",
   "name": "python3"
  },
  "language_info": {
   "codemirror_mode": {
    "name": "ipython",
    "version": 3
   },
   "file_extension": ".py",
   "mimetype": "text/x-python",
   "name": "python",
   "nbconvert_exporter": "python",
   "pygments_lexer": "ipython3",
   "version": "3.10.7"
  }
 },
 "nbformat": 4,
 "nbformat_minor": 5
}
