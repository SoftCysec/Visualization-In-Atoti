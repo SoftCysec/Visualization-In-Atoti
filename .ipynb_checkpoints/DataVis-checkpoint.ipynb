{
 "cells": [
  {
   "cell_type": "code",
   "execution_count": null,
   "id": "03e3d3cb",
   "metadata": {
    "scrolled": true,
    "tags": []
   },
   "outputs": [],
   "source": [
    "!pip install atoti\n",
    "!pip install atoti[jupyterlab]"
   ]
  },
  {
   "cell_type": "code",
   "execution_count": null,
   "id": "a29b7dce",
   "metadata": {
    "scrolled": true,
    "tags": []
   },
   "outputs": [],
   "source": [
    "import atoti as tt\n",
    "import pandas as pd"
   ]
  },
  {
   "cell_type": "code",
   "execution_count": null,
   "id": "3400f560",
   "metadata": {
    "tags": []
   },
   "outputs": [],
   "source": [
    "# Create an Atoti session\n",
    "session = tt.Session()\n",
    "\n",
    "# Load the data into a Pandas DataFrame\n",
    "# df = pd.read_csv(\"uploads/Patient Data.csv\")\n",
    "\n",
    "data = session.read_csv(\"uploads/Patient Data.csv\")\n",
    "# Create an Atoti cube\n",
    "cube = session.create_cube(data)"
   ]
  },
  {
   "cell_type": "code",
   "execution_count": null,
   "id": "a8e8b5f6",
   "metadata": {
    "tags": []
   },
   "outputs": [],
   "source": [
    "session.visualize()"
   ]
  },
  {
   "cell_type": "code",
   "execution_count": null,
   "id": "5afc7ab2",
   "metadata": {
    "tags": []
   },
   "outputs": [],
   "source": [
    "session.link()"
   ]
  },
  {
   "cell_type": "code",
   "execution_count": null,
   "id": "c184b63a",
   "metadata": {},
   "outputs": [],
   "source": []
  }
 ],
 "metadata": {
  "kernelspec": {
   "display_name": "Python 3 (ipykernel)",
   "language": "python",
   "name": "python3"
  },
  "language_info": {
   "codemirror_mode": {
    "name": "ipython",
    "version": 3
   },
   "file_extension": ".py",
   "mimetype": "text/x-python",
   "name": "python",
   "nbconvert_exporter": "python",
   "pygments_lexer": "ipython3",
   "version": "3.11.1"
  }
 },
 "nbformat": 4,
 "nbformat_minor": 5
}
